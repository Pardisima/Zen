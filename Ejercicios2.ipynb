{
 "cells": [
  {
   "cell_type": "code",
   "execution_count": 1,
   "metadata": {},
   "outputs": [
    {
     "name": "stdout",
     "output_type": "stream",
     "text": [
      "Introduce un número:24\n",
      "<class 'str'>\n"
     ]
    }
   ],
   "source": [
    "# 1 Usando el input\n",
    "# 1º Pide un número por teclado, muestra el resultado y su tipo\n",
    "valor_1 = input(\"Introduce un número:\")\n",
    "print(type(valor_1))"
   ]
  },
  {
   "cell_type": "code",
   "execution_count": 2,
   "metadata": {},
   "outputs": [
    {
     "name": "stdout",
     "output_type": "stream",
     "text": [
      "Introduce un número:28\n",
      "<class 'int'>\n"
     ]
    }
   ],
   "source": [
    "# 2º Pide un número y captura la info en formato int\n",
    "valor_2 = int(input(\"Introduce un número:\"))\n",
    "print(type(valor_2))"
   ]
  },
  {
   "cell_type": "code",
   "execution_count": 3,
   "metadata": {},
   "outputs": [
    {
     "name": "stdout",
     "output_type": "stream",
     "text": [
      "Introduce un número:3.14\n",
      "<class 'float'>\n"
     ]
    }
   ],
   "source": [
    "# 3º Pedir un número y caputra la info en formato float\n",
    "valor_3 = float(input(\"Introduce un número:\"))\n",
    "print(type(valor_3))"
   ]
  },
  {
   "cell_type": "code",
   "execution_count": 15,
   "metadata": {},
   "outputs": [
    {
     "name": "stdout",
     "output_type": "stream",
     "text": [
      "          Hola Mundo\n",
      "Hol\n",
      "         H          \n",
      "00150\n",
      "   7887\n",
      "020.020\n"
     ]
    }
   ],
   "source": [
    "# 2) Formatea los siguientes valores para mostrar el resultado indicado:\n",
    "\"\"\"\n",
    "\"Hola Mundo\" → Alineado a la derecha en 20 caracteres\n",
    "\"Hola Mundo\" → Truncamiento en el cuarto carácter (índice 3)\n",
    "\"Hola Mundo\" → Alineamiento al centro en 20 caracteres con truncamiento en el\n",
    "segundo carácter (índice 1)\n",
    "150 → Formateo a 5 números enteros rellenados con ceros\n",
    "7887 → Formateo a 7 números enteros rellenados con espacios\n",
    "20.02 → Formateo a 3 números enteros y 3 números decimales\n",
    "\"\"\"\n",
    "print(\"{:>20}\".format(\"Hola Mundo\"))\n",
    "print(\"{:.3}\".format(\"Hola Mundo\"))\n",
    "print(\"{:^20.1}\".format(\"Hola Mundo\"))\n",
    "print(\"{:05d}\".format(150))\n",
    "print(\"{: 7d}\".format(7887))\n",
    "print(\"{:07.3f}\".format(20.02))"
   ]
  },
  {
   "cell_type": "code",
   "execution_count": null,
   "metadata": {},
   "outputs": [],
   "source": []
  }
 ],
 "metadata": {
  "kernelspec": {
   "display_name": "Python 3",
   "language": "python",
   "name": "python3"
  },
  "language_info": {
   "codemirror_mode": {
    "name": "ipython",
    "version": 3
   },
   "file_extension": ".py",
   "mimetype": "text/x-python",
   "name": "python",
   "nbconvert_exporter": "python",
   "pygments_lexer": "ipython3",
   "version": "3.8.5"
  }
 },
 "nbformat": 4,
 "nbformat_minor": 4
}
