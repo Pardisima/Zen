{
 "cells": [
  {
   "cell_type": "code",
   "execution_count": null,
   "metadata": {},
   "outputs": [],
   "source": [
    "# 1. Realizaremos un programa que lea 3 números por teclado\n",
    "n_1 = float(input(\"Introduce un número: \"))\n",
    "n_2 = float(input(\"Introduce otro número: \"))\n",
    "n_3 = float(input(\"Introduce el último número: \"))\n",
    "print(n_1, n_2, n_3)\n",
    "# Ahora evaluamos lo siguiente:\n",
    "# Si están en orden ascendente, si no lo están o si da error por introducir un 0 como primer número\n",
    "if n_1 < n_2 and n_2 < n_3:\n",
    "        print(\"Los números están en orden ascendente\")\n",
    "elif n_1 == 0:\n",
    "    print(\"No da error\")\n",
    "else:\n",
    "    print(\"Los números no están en orden ascendente\")"
   ]
  },
  {
   "cell_type": "code",
   "execution_count": null,
   "metadata": {},
   "outputs": [],
   "source": [
    "# 2. A continuación haremos un programa que calcule el sumatorio de los primeros N valores,\n",
    "# empezando en 0, y siendo N el núm. lím. proporcionado por el usuario\n",
    "N = int(input(\"Introduce un número: \"))\n",
    "sumaN = sum(range(0, N))\n",
    "print(sumaN)"
   ]
  },
  {
   "cell_type": "code",
   "execution_count": null,
   "metadata": {},
   "outputs": [],
   "source": [
    "# 3. Realizaremos un programa que lea dos números por teclado y muestre el siguiente menú:\n",
    "\n",
    "# Mostrar una suma de los dos números\n",
    "# Mostrar una resta del primero menos el segundo\n",
    "# Mostrar una multiplicación\n",
    "# Si no se introduce una opción válida, mostraremos el error\n",
    "num_1 = float(input(\"Introduce un número: \"))\n",
    "num_2 = float(input(\"Introduce otro número: \"))\n",
    "opción = 0\n",
    "print(\"\"\"¿Qué operación quieres hacer?\n",
    "          1) Suma\n",
    "          2) Resta\n",
    "          3) Multiplicación\"\"\")\n",
    "\n",
    "opción = int(input(\"Introduce una opción: \"))\n",
    "if opción == 1:\n",
    "    print(\"La suma de\",num_1,\"+\",num_2,\"es\",num_1+num_2)\n",
    "elif opción == 2:\n",
    "    print(\"La resta de\",num_1,\"-\",num_2,\"es\",num_1-num_2)\n",
    "elif opción == 3:\n",
    "    print(\"El resultado de\",num_1,\"*\",num_2,\"es\",num_1*num_2)\n",
    "else:\n",
    "    print(\"Opción Errónea\")"
   ]
  },
  {
   "cell_type": "code",
   "execution_count": null,
   "metadata": {},
   "outputs": [],
   "source": [
    "# 4. Hacer un programa que lea y cuente las letras \"a\" que se introducen y mostrarlo al final\n",
    "print(\"\"\"Bienvenido al contador de [a]\n",
    "Introduce un texto para contar el número de [a]\n",
    "Si desea salir introduzca [.]\"\"\")\n",
    "contador = 0\n",
    "while True:\n",
    "    comando = input(\"Texto: \")\n",
    "    if comando == \".\":\n",
    "        break\n",
    "    elif \"a\" in comando:\n",
    "        for letra in comando:\n",
    "            if letra == \"a\":\n",
    "                contador += 1\n",
    "print(\"El número total de [a] es\",contador)\n",
    "print(\"¡Hasta pronto!\")"
   ]
  },
  {
   "cell_type": "code",
   "execution_count": null,
   "metadata": {},
   "outputs": [],
   "source": [
    "# 5. Realizaremos un programa que lea por teclado un número impar\n",
    "num_usuario = int(input(\"Introduce un número impar: \"))\n",
    "while num_usuario %2 != 0:\n",
    "    num_usuario = int(input(\"Introduce un número impar: \"))"
   ]
  },
  {
   "cell_type": "code",
   "execution_count": null,
   "metadata": {},
   "outputs": [],
   "source": [
    "# 6. Realizaremos un programa que sume todos los valores pares desde el 0 hasta el 100\n",
    "suma_pares = sum(range(0, 101, 2))\n",
    "print(suma_pares)"
   ]
  },
  {
   "cell_type": "code",
   "execution_count": null,
   "metadata": {},
   "outputs": [],
   "source": [
    "# 7. Solicitamos al usuario un número que representa el total de números que se van a introducir\n",
    "# Posteriormente leeremos todos esos números y hacemos la media aritmética\n",
    "suma = 0\n",
    "numbers = int(input(\"¿Cuátos números quieres introducir? \"))\n",
    "for n in range(numbers):\n",
    "    suma += float(input(\"Introduce un número: \"))\n",
    "print(\"Se han introducido\", numbers, \"números que en total suman\", suma, \"y la media es\", suma/numbers)"
   ]
  },
  {
   "cell_type": "code",
   "execution_count": null,
   "metadata": {},
   "outputs": [],
   "source": [
    "# 8. Solicitamos al usuario un número entero entre el 0 y el 9, y si es False repetimos el proceso.\n",
    "# Luego compruebo si el número se encuentra en la lista y lo notifico\n",
    "numeros = [1, 3, 6, 9]\n",
    "while True:\n",
    "    numero = int(input(\"Introduce un número entero entre el 0 y el 9: \"))\n",
    "    if numero >= 0 and numero <= 9:\n",
    "        break\n",
    "if numero in numeros:\n",
    "    print(\"El número\", numero, \"está en la lista\")\n",
    "else:\n",
    "    print(\"El número\", numero, \"no está en la lista\")"
   ]
  },
  {
   "cell_type": "code",
   "execution_count": null,
   "metadata": {},
   "outputs": [],
   "source": [
    "# 9. Función range() y conversión a listas\n",
    "# Generar las siguientes listas y mostrarlas con print\n",
    "# Todos los números del 0 al 10\n",
    "l_progresiva = list(range(11))\n",
    "print(l_progresiva)\n",
    "# Todos los números del -10 al 0\n",
    "l_neg = list(range(-10, 1, 1))\n",
    "print(l_neg)\n",
    "# Todos los pares del 0 al 20\n",
    "l_pares = list(range(0, 21, 2))\n",
    "print(l_pares)\n",
    "# Todos los impares entre -20 y 0\n",
    "l_impar_neg = list(range(-19, 0, 2))\n",
    "print(l_impar_neg)\n",
    "# Todos los múltiples de 5 de 0 a 50\n",
    "l_mult_5 = list(range(0, 51, 5))\n",
    "print(l_mult_5)"
   ]
  },
  {
   "cell_type": "code",
   "execution_count": null,
   "metadata": {},
   "outputs": [],
   "source": [
    "# 10. Realizaremos un programa que dadas dos listas, genere una tercera lista con\n",
    "# todos los elementos que se repitan en ellas, pero sin repetir elementos en la nueva lista\n",
    "lista_1 = list(\"hola mundo\")\n",
    "lista_2 = list(\"hola luna\")\n",
    "lista_3 = []\n",
    "for letra in lista_1:\n",
    "    if letra in lista_2 and letra not in lista_3:\n",
    "        lista_3.append(letra)\n",
    "print(lista_3)"
   ]
  },
  {
   "cell_type": "code",
   "execution_count": null,
   "metadata": {},
   "outputs": [],
   "source": []
  }
 ],
 "metadata": {
  "kernelspec": {
   "display_name": "Python 3",
   "language": "python",
   "name": "python3"
  },
  "language_info": {
   "codemirror_mode": {
    "name": "ipython",
    "version": 3
   },
   "file_extension": ".py",
   "mimetype": "text/x-python",
   "name": "python",
   "nbconvert_exporter": "python",
   "pygments_lexer": "ipython3",
   "version": "3.8.8"
  }
 },
 "nbformat": 4,
 "nbformat_minor": 4
}
