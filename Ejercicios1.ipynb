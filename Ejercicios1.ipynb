{
 "cells": [
  {
   "cell_type": "code",
   "execution_count": 1,
   "metadata": {},
   "outputs": [
    {
     "name": "stdout",
     "output_type": "stream",
     "text": [
      "La nota media es 6.0\n"
     ]
    }
   ],
   "source": [
    "# Ejercicio 1\n",
    "\n",
    "# Introduzco todos los datos en variables\n",
    "primer_trimestre = 7\n",
    "segundo_trimestre = 5\n",
    "tercer_trimestre = 6\n",
    "texto_resultado = \"La nota media es \"\n",
    "# Calculo la media en float porque el ejercicio así me lo pide\n",
    "mediaAnual = (primer_trimestre + segundo_trimestre + tercer_trimestre)/3\n",
    "# Transformo a texto (string) el resultado de la media\n",
    "texto_media = str(mediaAnual)\n",
    "# Concateno e imprimo resultado\n",
    "print (texto_resultado + texto_media)"
   ]
  },
  {
   "cell_type": "code",
   "execution_count": 2,
   "metadata": {},
   "outputs": [
    {
     "name": "stdout",
     "output_type": "stream",
     "text": [
      "5.8\n"
     ]
    }
   ],
   "source": [
    "# Ejercicio 2\n",
    "\n",
    "# Calculo el valor porcentual de las notas\n",
    "primer_valor = primer_trimestre *0.15\n",
    "segundo_valor = segundo_trimestre *0.35\n",
    "tercer_valor = tercer_trimestre *0.5\n",
    "# Ahora calculamos la media final\n",
    "media_final = primer_valor + segundo_valor + tercer_valor\n",
    "print(media_final)"
   ]
  },
  {
   "cell_type": "code",
   "execution_count": 3,
   "metadata": {},
   "outputs": [
    {
     "name": "stdout",
     "output_type": "stream",
     "text": [
      "Introduce un número \n",
      "<class 'int'>3\n",
      "Introduce otro número \n",
      "<class 'int'>2\n",
      "False\n",
      "True\n",
      "True\n",
      "False\n"
     ]
    }
   ],
   "source": [
    "# Ejercicio 3\n",
    "\n",
    "# Evalúo de forma booleana 2 números\n",
    "print(\"Introduce un número \")\n",
    "a = input(int)\n",
    "print(\"Introduce otro número \")\n",
    "b = input(int)\n",
    "print(a == b)\n",
    "print(a != b)\n",
    "print(a > b)\n",
    "print(b >= a)"
   ]
  },
  {
   "cell_type": "code",
   "execution_count": 9,
   "metadata": {},
   "outputs": [
    {
     "name": "stdout",
     "output_type": "stream",
     "text": [
      "Introduzca el texto: Hola Cristian\n",
      "False\n"
     ]
    }
   ],
   "source": [
    "# Ejercicio 4\n",
    "\n",
    "# Leer la longitud de un texto y calcular\n",
    "texto = input(\"Introduzca el texto: \")\n",
    "print(len(texto) >= 3 and len(texto) < 10)"
   ]
  },
  {
   "cell_type": "code",
   "execution_count": 10,
   "metadata": {},
   "outputs": [
    {
     "name": "stdout",
     "output_type": "stream",
     "text": [
      "Introduce un número entre el 1 y el 9: 3\n",
      "El resultado final es: 333333333\n"
     ]
    }
   ],
   "source": [
    "# Ejercicio 5\n",
    "\n",
    "numero_magico = 12345679\n",
    "numero_usuario = int(input(\"Introduce un número entre el 1 y el 9: \"))\n",
    "# Operamos con la entrada de datos\n",
    "numero_usuario *= 9\n",
    "numero_magico *= numero_usuario\n",
    "print(\"El resultado final es:\", numero_magico)"
   ]
  },
  {
   "cell_type": "code",
   "execution_count": null,
   "metadata": {},
   "outputs": [],
   "source": []
  }
 ],
 "metadata": {
  "kernelspec": {
   "display_name": "Python 3",
   "language": "python",
   "name": "python3"
  },
  "language_info": {
   "codemirror_mode": {
    "name": "ipython",
    "version": 3
   },
   "file_extension": ".py",
   "mimetype": "text/x-python",
   "name": "python",
   "nbconvert_exporter": "python",
   "pygments_lexer": "ipython3",
   "version": "3.8.5"
  }
 },
 "nbformat": 4,
 "nbformat_minor": 4
}
